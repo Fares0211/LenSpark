{
 "cells": [
  {
   "attachments": {},
   "cell_type": "markdown",
   "metadata": {},
   "source": [
    "# Loading"
   ]
  },
  {
   "cell_type": "code",
   "execution_count": 2,
   "metadata": {},
   "outputs": [],
   "source": [
    "import numpy as np\n",
    "import pandas as pd\n",
    "import matplotlib.pyplot as plt\n",
    "\n",
    "import findspark\n",
    "findspark.init\n",
    "from pyspark.sql import SparkSession\n",
    "import pyspark.sql.functions as f\n",
    "from pyspark.sql.types import StructType,StringType,IntegerType,MapType,ArrayType,StructField\n",
    "from pyspark.sql.functions import *\n",
    "import os\n",
    "\n",
    "# NLP\n",
    "from pyspark.ml.feature import HashingTF, IDF, Tokenizer\n",
    "from pyspark.ml.feature import StringIndexer\n",
    "from pyspark.ml.linalg import Vectors, VectorUDT\n",
    "from pyspark.ml.clustering import LDA\n",
    "from pyspark.sql.functions import udf\n",
    "from pyspark.sql.types import DoubleType\n",
    "from pyspark.ml import Pipeline\n"
   ]
  },
  {
   "cell_type": "code",
   "execution_count": 3,
   "metadata": {},
   "outputs": [
    {
     "name": "stderr",
     "output_type": "stream",
     "text": [
      "Setting default log level to \"WARN\".\n",
      "To adjust logging level use sc.setLogLevel(newLevel). For SparkR, use setLogLevel(newLevel).\n"
     ]
    },
    {
     "name": "stdout",
     "output_type": "stream",
     "text": [
      "23/01/19 23:30:56 WARN NativeCodeLoader: Unable to load native-hadoop library for your platform... using builtin-java classes where applicable\n"
     ]
    }
   ],
   "source": [
    "# Initialize Spark\n",
    "spark = SparkSession.builder.master(\"local[*]\").getOrCreate()\n"
   ]
  },
  {
   "cell_type": "code",
   "execution_count": 4,
   "metadata": {},
   "outputs": [
    {
     "name": "stderr",
     "output_type": "stream",
     "text": [
      "                                                                                \r"
     ]
    }
   ],
   "source": [
    "links=spark.read\\\n",
    ".format(\"com.databricks.spark.csv\")\\\n",
    ".option(\"multiline\",True)\\\n",
    ".option(\"header\",True)\\\n",
    ".option(\"escape\", \"\\\"\")\\\n",
    ".option(\"inferschema\",True)\\\n",
    ".csv(\"dataset/links.csv\")\n",
    "\n",
    "keywords=spark.read\\\n",
    ".format(\"com.databricks.spark.csv\")\\\n",
    ".option(\"multiline\",True)\\\n",
    ".option(\"header\",True)\\\n",
    ".option(\"escape\", \"\\\"\")\\\n",
    ".option(\"inferschema\",True)\\\n",
    ".csv(\"dataset/keywords.csv\")\n",
    "\n",
    "movies_metadata=spark.read\\\n",
    ".format(\"com.databricks.spark.csv\")\\\n",
    ".option(\"multiline\",True)\\\n",
    ".option(\"header\",True)\\\n",
    ".option(\"escape\", \"\\\"\")\\\n",
    ".option(\"inferschema\",True)\\\n",
    ".csv(\"dataset/movies_metadata.csv\")\n",
    "\n",
    "credits=spark.read\\\n",
    ".format(\"com.databricks.spark.csv\")\\\n",
    ".option(\"multiline\",True)\\\n",
    ".option(\"header\",True)\\\n",
    ".option(\"escape\", \"\\\"\")\\\n",
    ".option(\"inferschema\",True)\\\n",
    ".csv(\"dataset/credits.csv\")\n",
    "\n",
    "ratings=spark.read\\\n",
    ".format(\"com.databricks.spark.csv\")\\\n",
    ".option(\"multiline\",True)\\\n",
    ".option(\"header\",True)\\\n",
    ".option(\"escape\", \"\\\"\")\\\n",
    ".option(\"inferschema\",True)\\\n",
    ".csv(\"dataset/ratings.csv\")\n",
    "\n",
    "\n",
    "\n",
    "ratings_sample=spark.read\\\n",
    ".format(\"com.databricks.spark.csv\")\\\n",
    ".option(\"multiline\",True)\\\n",
    ".option(\"header\",True)\\\n",
    ".option(\"escape\", \"\\\"\")\\\n",
    ".option(\"inferschema\",True)\\\n",
    ".csv(\"dataset/ratings_small.csv\")"
   ]
  },
  {
   "attachments": {},
   "cell_type": "markdown",
   "metadata": {},
   "source": [
    "# 1.Analysis of the datasets"
   ]
  },
  {
   "cell_type": "code",
   "execution_count": 5,
   "metadata": {},
   "outputs": [
    {
     "name": "stdout",
     "output_type": "stream",
     "text": [
      "root\n",
      " |-- movieId: integer (nullable = true)\n",
      " |-- imdbId: integer (nullable = true)\n",
      " |-- tmdbId: integer (nullable = true)\n",
      "\n",
      "root\n",
      " |-- userId: integer (nullable = true)\n",
      " |-- movieId: integer (nullable = true)\n",
      " |-- rating: double (nullable = true)\n",
      " |-- timestamp: integer (nullable = true)\n",
      "\n",
      "root\n",
      " |-- cast: string (nullable = true)\n",
      " |-- crew: string (nullable = true)\n",
      " |-- id: integer (nullable = true)\n",
      "\n"
     ]
    }
   ],
   "source": [
    "links.printSchema()\n",
    "ratings.printSchema()\n",
    "credits.printSchema()"
   ]
  },
  {
   "cell_type": "code",
   "execution_count": 6,
   "metadata": {},
   "outputs": [
    {
     "name": "stdout",
     "output_type": "stream",
     "text": [
      "root\n",
      " |-- adult: string (nullable = true)\n",
      " |-- belongs_to_collection: string (nullable = true)\n",
      " |-- budget: string (nullable = true)\n",
      " |-- genres: string (nullable = true)\n",
      " |-- homepage: string (nullable = true)\n",
      " |-- id: string (nullable = true)\n",
      " |-- imdb_id: string (nullable = true)\n",
      " |-- original_language: string (nullable = true)\n",
      " |-- original_title: string (nullable = true)\n",
      " |-- overview: string (nullable = true)\n",
      " |-- popularity: string (nullable = true)\n",
      " |-- poster_path: string (nullable = true)\n",
      " |-- production_companies: string (nullable = true)\n",
      " |-- production_countries: string (nullable = true)\n",
      " |-- release_date: string (nullable = true)\n",
      " |-- revenue: long (nullable = true)\n",
      " |-- runtime: double (nullable = true)\n",
      " |-- spoken_languages: string (nullable = true)\n",
      " |-- status: string (nullable = true)\n",
      " |-- tagline: string (nullable = true)\n",
      " |-- title: string (nullable = true)\n",
      " |-- video: boolean (nullable = true)\n",
      " |-- vote_average: double (nullable = true)\n",
      " |-- vote_count: integer (nullable = true)\n",
      "\n"
     ]
    }
   ],
   "source": [
    "movies_metadata.printSchema()"
   ]
  },
  {
   "cell_type": "code",
   "execution_count": 8,
   "metadata": {},
   "outputs": [],
   "source": [
    "movies_metadata=movies_metadata.where(~col('id').isin('82663','162372','215848'))# suppression de lignes corrompues\n",
    "\n",
    "#valeurs nulles sur les colonnes JSON  \"production_companies\" et \"production_countries\"\n",
    "movies_metadata=movies_metadata.na.drop(subset=[\"production_companies\",\"production_countries\",\"genres\"])"
   ]
  },
  {
   "cell_type": "code",
   "execution_count": 9,
   "metadata": {},
   "outputs": [],
   "source": [
    "#titrage des colonnes ajoutés\n",
    "movies_metadata=movies_metadata.withColumn('genres',when(col('genres')=='[]',\"[{'id': 0, 'name': 'Unknown'}]\").otherwise(col('genres')))\\\n",
    "               .withColumn('production_companies',when(col('production_companies')=='[]',\"[{'name': 'Unknown', 'id': 0}]\").otherwise(col('production_companies')))\\\n",
    "               .withColumn('production_countries',when(col('production_countries')=='[]',\"[{'iso_3166_1': 'Unknown', 'name': 'Unknown'}]\").otherwise(col('production_countries')))\n"
   ]
  },
  {
   "cell_type": "code",
   "execution_count": 10,
   "metadata": {},
   "outputs": [
    {
     "name": "stdout",
     "output_type": "stream",
     "text": [
      "Column stats for data file :Ratings.csv\n",
      "\n"
     ]
    },
    {
     "name": "stderr",
     "output_type": "stream",
     "text": [
      "                                                                                \r"
     ]
    },
    {
     "name": "stdout",
     "output_type": "stream",
     "text": [
      "+------+-------+------+---------+\n",
      "|userId|movieId|rating|timestamp|\n",
      "+------+-------+------+---------+\n",
      "|     0|      0|     0|        0|\n",
      "+------+-------+------+---------+\n",
      "\n",
      "Column stats for data file :Movies_metadata.csv\n",
      "\n"
     ]
    },
    {
     "name": "stderr",
     "output_type": "stream",
     "text": [
      "                                                                                \r"
     ]
    },
    {
     "name": "stdout",
     "output_type": "stream",
     "text": [
      "+-----+---------------------+------+------+--------+---+-------+-----------------+--------------+--------+----------+-----------+--------------------+--------------------+------------+-------+-------+----------------+------+-------+-----+------------+----------+\n",
      "|adult|belongs_to_collection|budget|genres|homepage| id|imdb_id|original_language|original_title|overview|popularity|poster_path|production_companies|production_countries|release_date|revenue|runtime|spoken_languages|status|tagline|title|vote_average|vote_count|\n",
      "+-----+---------------------+------+------+--------+---+-------+-----------------+--------------+--------+----------+-----------+--------------------+--------------------+------------+-------+-------+----------------+------+-------+-----+------------+----------+\n",
      "|    0|                40968|     0|     0|   37680|  0|     17|               11|             0|     954|         2|        383|                   0|                   0|          84|      3|    260|               3|    84|  25049|    3|           3|         3|\n",
      "+-----+---------------------+------+------+--------+---+-------+-----------------+--------------+--------+----------+-----------+--------------------+--------------------+------------+-------+-------+----------------+------+-------+-----+------------+----------+\n",
      "\n",
      "Column stats for data file :Credits.csv\n",
      "\n"
     ]
    },
    {
     "name": "stderr",
     "output_type": "stream",
     "text": [
      "                                                                                \r"
     ]
    },
    {
     "name": "stdout",
     "output_type": "stream",
     "text": [
      "+----+----+---+\n",
      "|cast|crew| id|\n",
      "+----+----+---+\n",
      "|   0|   0|  0|\n",
      "+----+----+---+\n",
      "\n",
      "Column stats for data file :Keywords.csv\n",
      "\n"
     ]
    },
    {
     "name": "stderr",
     "output_type": "stream",
     "text": [
      "                                                                                \r"
     ]
    },
    {
     "name": "stdout",
     "output_type": "stream",
     "text": [
      "+---+--------+\n",
      "| id|keywords|\n",
      "+---+--------+\n",
      "|  0|       0|\n",
      "+---+--------+\n",
      "\n",
      "Column stats for data file :links.csv\n",
      "\n",
      "+-------+------+------+\n",
      "|movieId|imdbId|tmdbId|\n",
      "+-------+------+------+\n",
      "|      0|     0|   219|\n",
      "+-------+------+------+\n",
      "\n"
     ]
    }
   ],
   "source": [
    "datadict={'Ratings.csv':ratings,'Movies_metadata.csv':movies_metadata,'Credits.csv':credits,'Keywords.csv':keywords,'links.csv':links}\n",
    "# Check if null/NaN values\n",
    "for key,value in datadict.items() :\n",
    "  dfStats= value.select([count(when(col(c).isNull()|isnan(c),'True')).alias(c) for c,c_type in value.dtypes if c_type not in ('timestamp','boolean')])\n",
    "  print(\"Column stats for data file :\" +key+\"\\n\")\n",
    "  dfStats.show()"
   ]
  },
  {
   "cell_type": "code",
   "execution_count": 11,
   "metadata": {},
   "outputs": [],
   "source": [
    "#Change Column data type\n",
    "movies_metadata=movies_metadata.withColumn('budget',col('budget').cast('integer'))\\\n",
    "                               .withColumn('popularity',col('popularity').cast('float'))\\\n",
    "                               .withColumn('revenue',col('revenue').cast('integer'))"
   ]
  },
  {
   "cell_type": "code",
   "execution_count": 12,
   "metadata": {},
   "outputs": [
    {
     "name": "stderr",
     "output_type": "stream",
     "text": [
      "                                                                                \r"
     ]
    },
    {
     "name": "stdout",
     "output_type": "stream",
     "text": [
      "+---------+--------------------+------------+--------------------+-----+\n",
      "|  imdb_id|               title|release_date|            overview|count|\n",
      "+---------+--------------------+------------+--------------------+-----+\n",
      "|tt0454792|              Bubble|  2005-09-03|Set against the b...|    2|\n",
      "|tt0287635|Pokémon 4Ever: Ce...|  2001-07-06|All your favorite...|    2|\n",
      "|tt1821641|        The Congress|  2013-05-16|More than two dec...|    2|\n",
      "|tt0270288|Confessions of a ...|  2002-12-30|Television made h...|    2|\n",
      "|tt1180333|            Blackout|  2008-12-26|Recovering from a...|    3|\n",
      "|tt0022537|          The Viking|  1931-06-21|Originally called...|    2|\n",
      "|tt1701210|          Black Gold|  2011-12-21|On the Arabian Pe...|    2|\n",
      "|tt0499456|    Days of Darkness|  2007-01-01|When a comet stri...|    2|\n",
      "|tt0084387|Nana, the True Ke...|  1983-06-13|In Zola's Paris, ...|    2|\n",
      "|tt0157472|       Clockstoppers|  2002-03-17|Until now, Zak Gi...|    2|\n",
      "|tt2121382|       Force Majeure|  2014-08-15|While holidaying ...|    2|\n",
      "|tt0127834|Seven Years Bad Luck|  1921-02-06|After breaking a ...|    2|\n",
      "|tt0499537|             Offside|  2006-05-26|Since women are b...|    2|\n",
      "|tt0062229|         Le Samouraï|  1967-10-25|Hitman Jef Costel...|    2|\n",
      "|tt0082992|     Rich and Famous|  1981-09-23|Two literary wome...|    2|\n",
      "|tt1736049|A Place at the Table|  2012-03-22|Using personal st...|    2|\n",
      "|tt0295682|         The Warrior|  2001-09-23|In feudal India, ...|    2|\n",
      "|tt0235679|Pokémon: Spell of...|  2000-07-08|When Molly Hale's...|    2|\n",
      "|tt1327820|         Brotherhood|  2009-10-21|Former Danish ser...|    2|\n",
      "|tt0046468|                Wife|  1953-04-29|Ten years into a ...|    2|\n",
      "+---------+--------------------+------------+--------------------+-----+\n",
      "only showing top 20 rows\n",
      "\n"
     ]
    },
    {
     "name": "stderr",
     "output_type": "stream",
     "text": [
      "[Stage 49:>                                                         (0 + 1) / 1]\r"
     ]
    },
    {
     "name": "stdout",
     "output_type": "stream",
     "text": [
      "+----------+\n",
      "|sum(count)|\n",
      "+----------+\n",
      "|        59|\n",
      "+----------+\n",
      "\n"
     ]
    },
    {
     "name": "stderr",
     "output_type": "stream",
     "text": [
      "                                                                                \r"
     ]
    }
   ],
   "source": [
    "# identify duplicates based on IMDB ID\n",
    "df_dup=movies_metadata.groupby('imdb_id','title','release_date', 'overview').count().filter(\"count > 1\").show()\n",
    "\n",
    "#Total number of duplicate rows\n",
    "movies_metadata.groupby('imdb_id','title','release_date', 'overview').count().where(f.col('count')>1).select(f.sum('count')).show()\n",
    "\n",
    "# DROP Duplicates - using drop_duplicates - RETURNS NEW DF\n",
    "movies_metadata=movies_metadata.drop_duplicates(['imdb_id','title','release_date', 'overview'])"
   ]
  },
  {
   "cell_type": "code",
   "execution_count": 13,
   "metadata": {},
   "outputs": [
    {
     "name": "stderr",
     "output_type": "stream",
     "text": [
      "[Stage 57:>                                                         (0 + 4) / 4]\r"
     ]
    },
    {
     "name": "stdout",
     "output_type": "stream",
     "text": [
      "root\n",
      " |-- adult: string (nullable = true)\n",
      " |-- belongs_to_collection: string (nullable = true)\n",
      " |-- budget: integer (nullable = true)\n",
      " |-- genres: string (nullable = true)\n",
      " |-- homepage: string (nullable = true)\n",
      " |-- id_ori: string (nullable = true)\n",
      " |-- imdb_id: string (nullable = true)\n",
      " |-- original_language: string (nullable = true)\n",
      " |-- original_title: string (nullable = true)\n",
      " |-- overview: string (nullable = true)\n",
      " |-- popularity: float (nullable = true)\n",
      " |-- poster_path_ori: string (nullable = true)\n",
      " |-- production_companies: string (nullable = true)\n",
      " |-- production_countries: string (nullable = true)\n",
      " |-- release_date: string (nullable = true)\n",
      " |-- revenue: integer (nullable = true)\n",
      " |-- runtime: double (nullable = true)\n",
      " |-- spoken_languages: string (nullable = true)\n",
      " |-- status: string (nullable = true)\n",
      " |-- tagline: string (nullable = true)\n",
      " |-- title: string (nullable = true)\n",
      " |-- video: boolean (nullable = true)\n",
      " |-- vote_average: double (nullable = true)\n",
      " |-- vote_count: integer (nullable = true)\n",
      " |-- name: string (nullable = true)\n",
      " |-- poster_path: string (nullable = true)\n",
      " |-- backdrop_path: string (nullable = true)\n",
      " |-- id: string (nullable = true)\n",
      "\n"
     ]
    },
    {
     "name": "stderr",
     "output_type": "stream",
     "text": [
      "                                                                                \r"
     ]
    }
   ],
   "source": [
    "movies_metadata=movies_metadata.withColumnRenamed(\"id\",\"id_ori\")\\\n",
    "                                .withColumnRenamed(\"poster_path\",\"poster_path_ori\")\n",
    "\n",
    "#Attach schema to Json object column\n",
    "df=movies_metadata.withColumn(\"belongs_to_collection_value\",from_json(movies_metadata.belongs_to_collection,MapType(StringType(),StringType())))\n",
    "                  \n",
    "\n",
    "# Get the distinct Keys of Json object\n",
    "key_df=df.select(explode(map_keys(col('belongs_to_collection_value')))).distinct()\n",
    "\n",
    "# Convert Key collection object to a List\n",
    "keylst=list(map(lambda row:row[0],key_df.collect()))\n",
    "\n",
    "#Retrieve values based on Keys into a seperate column\n",
    "key_cols=map(lambda f:df['belongs_to_collection_value'].getItem(f).alias(str(f)),keylst)\n",
    "#df2=df2.select(col('belongs_to_collection'),*key_cols)\n",
    "df=df.select(*movies_metadata.columns,*key_cols)\n",
    "df.printSchema()"
   ]
  },
  {
   "attachments": {},
   "cell_type": "markdown",
   "metadata": {},
   "source": [
    "### Add JSON arrays to dataset columns"
   ]
  },
  {
   "cell_type": "code",
   "execution_count": 14,
   "metadata": {},
   "outputs": [
    {
     "name": "stderr",
     "output_type": "stream",
     "text": [
      "[Stage 63:>                                                         (0 + 1) / 1]\r"
     ]
    },
    {
     "name": "stdout",
     "output_type": "stream",
     "text": [
      "+------+-----------------------------+----------------------------+---------------------------+\n",
      "|id_ori|genres_value                 |production_companies_values |production_countries_values|\n",
      "+------+-----------------------------+----------------------------+---------------------------+\n",
      "|45514 |Unknown                      |Unknown                     |France                     |\n",
      "|118013|Unknown                      |Unknown                     |Unknown                    |\n",
      "|65256 |Fantasy,Adventure            |ZDF Enterprises             |Australia                  |\n",
      "|75015 |Foreign,Action,History,Comedy|Unknown                     |Poland                     |\n",
      "|293412|Adventure,Drama              |Unknown                     |Unknown                    |\n",
      "|16624 |Drama                        |Edison Manufacturing Company|United States of America   |\n",
      "|82120 |Comedy                       |Lumière                     |France                     |\n",
      "|129865|Documentary                  |Lumière                     |France                     |\n",
      "|104462|Comedy,Horror                |Star Film Company           |France                     |\n",
      "|159900|Unknown                      |Edison Manufacturing Company|United States of America   |\n",
      "+------+-----------------------------+----------------------------+---------------------------+\n",
      "only showing top 10 rows\n",
      "\n"
     ]
    },
    {
     "name": "stderr",
     "output_type": "stream",
     "text": [
      "                                                                                \r"
     ]
    }
   ],
   "source": [
    "# Columns - production_companies , production_countries , genres have Json array values\n",
    "\n",
    "\n",
    "#Step 1 - Define  schema of Json array type\n",
    "schema = ArrayType(StructType([\n",
    "        StructField('id', IntegerType(), nullable=False), \n",
    "        StructField('name', StringType(), nullable=False)]))\n",
    "\n",
    "#Step 2 - UDF function to convert list to column seperated values. As Data is in Json array, extracting values based on Json keys will  produce list\n",
    "convertUDF = udf(lambda s: ','.join(map(str, s)),StringType())\n",
    "\n",
    "#Step 3 - Json parsing\n",
    "df=df.withColumn(\"production_companies_values\",when(col('production_companies')=='[]','').otherwise(convertUDF(from_json(movies_metadata.production_companies,schema).getField(\"name\"))))\\\n",
    "     .withColumn(\"production_countries_values\",convertUDF(from_json(movies_metadata.production_countries,schema).getField(\"name\")))\\\n",
    "        .withColumn(\"genres_value\",convertUDF(from_json(movies_metadata.genres,schema).getField(\"name\")))\n",
    "\n",
    "df.select('id_ori',\"genres_value\",\"production_companies_values\",\"production_countries_values\").show(10,False)"
   ]
  },
  {
   "attachments": {},
   "cell_type": "markdown",
   "metadata": {},
   "source": [
    "### Find number movies per collection"
   ]
  },
  {
   "cell_type": "code",
   "execution_count": 15,
   "metadata": {},
   "outputs": [
    {
     "name": "stderr",
     "output_type": "stream",
     "text": [
      "                                                                                \r"
     ]
    },
    {
     "data": {
      "text/html": [
       "<div>\n",
       "<style scoped>\n",
       "    .dataframe tbody tr th:only-of-type {\n",
       "        vertical-align: middle;\n",
       "    }\n",
       "\n",
       "    .dataframe tbody tr th {\n",
       "        vertical-align: top;\n",
       "    }\n",
       "\n",
       "    .dataframe thead th {\n",
       "        text-align: right;\n",
       "    }\n",
       "</style>\n",
       "<table border=\"1\" class=\"dataframe\">\n",
       "  <thead>\n",
       "    <tr style=\"text-align: right;\">\n",
       "      <th></th>\n",
       "      <th>name</th>\n",
       "      <th>count</th>\n",
       "    </tr>\n",
       "  </thead>\n",
       "  <tbody>\n",
       "    <tr>\n",
       "      <th>0</th>\n",
       "      <td>The Bowery Boys</td>\n",
       "      <td>29</td>\n",
       "    </tr>\n",
       "    <tr>\n",
       "      <th>1</th>\n",
       "      <td>Totò Collection</td>\n",
       "      <td>27</td>\n",
       "    </tr>\n",
       "    <tr>\n",
       "      <th>2</th>\n",
       "      <td>James Bond Collection</td>\n",
       "      <td>26</td>\n",
       "    </tr>\n",
       "    <tr>\n",
       "      <th>3</th>\n",
       "      <td>Zatôichi: The Blind Swordsman</td>\n",
       "      <td>26</td>\n",
       "    </tr>\n",
       "    <tr>\n",
       "      <th>4</th>\n",
       "      <td>The Carry On Collection</td>\n",
       "      <td>25</td>\n",
       "    </tr>\n",
       "    <tr>\n",
       "      <th>5</th>\n",
       "      <td>Pokémon Collection</td>\n",
       "      <td>20</td>\n",
       "    </tr>\n",
       "    <tr>\n",
       "      <th>6</th>\n",
       "      <td>Godzilla (Showa) Collection</td>\n",
       "      <td>16</td>\n",
       "    </tr>\n",
       "    <tr>\n",
       "      <th>7</th>\n",
       "      <td>Charlie Chan (Warner Oland) Collection</td>\n",
       "      <td>15</td>\n",
       "    </tr>\n",
       "    <tr>\n",
       "      <th>8</th>\n",
       "      <td>Dragon Ball Z (Movie) Collection</td>\n",
       "      <td>15</td>\n",
       "    </tr>\n",
       "    <tr>\n",
       "      <th>9</th>\n",
       "      <td>Monster High Collection</td>\n",
       "      <td>14</td>\n",
       "    </tr>\n",
       "    <tr>\n",
       "      <th>10</th>\n",
       "      <td>The Land Before Time Collection</td>\n",
       "      <td>14</td>\n",
       "    </tr>\n",
       "    <tr>\n",
       "      <th>11</th>\n",
       "      <td>Johan Falk GSI Collection</td>\n",
       "      <td>12</td>\n",
       "    </tr>\n",
       "    <tr>\n",
       "      <th>12</th>\n",
       "      <td>Friday the 13th Collection</td>\n",
       "      <td>12</td>\n",
       "    </tr>\n",
       "    <tr>\n",
       "      <th>13</th>\n",
       "      <td>The Amityville Horror Collection</td>\n",
       "      <td>12</td>\n",
       "    </tr>\n",
       "    <tr>\n",
       "      <th>14</th>\n",
       "      <td>Sherlock Holmes (1939 series)</td>\n",
       "      <td>12</td>\n",
       "    </tr>\n",
       "    <tr>\n",
       "      <th>15</th>\n",
       "      <td>Il Maresciallo Giraldi Collection</td>\n",
       "      <td>10</td>\n",
       "    </tr>\n",
       "    <tr>\n",
       "      <th>16</th>\n",
       "      <td>Tom and Jerry Collection</td>\n",
       "      <td>10</td>\n",
       "    </tr>\n",
       "    <tr>\n",
       "      <th>17</th>\n",
       "      <td>Puppet Master Collection</td>\n",
       "      <td>10</td>\n",
       "    </tr>\n",
       "    <tr>\n",
       "      <th>18</th>\n",
       "      <td>Fantozzi Collection</td>\n",
       "      <td>10</td>\n",
       "    </tr>\n",
       "    <tr>\n",
       "      <th>19</th>\n",
       "      <td>Hellraiser Collection</td>\n",
       "      <td>10</td>\n",
       "    </tr>\n",
       "  </tbody>\n",
       "</table>\n",
       "</div>"
      ],
      "text/plain": [
       "                                      name  count\n",
       "0                          The Bowery Boys     29\n",
       "1                          Totò Collection     27\n",
       "2                    James Bond Collection     26\n",
       "3            Zatôichi: The Blind Swordsman     26\n",
       "4                  The Carry On Collection     25\n",
       "5                       Pokémon Collection     20\n",
       "6              Godzilla (Showa) Collection     16\n",
       "7   Charlie Chan (Warner Oland) Collection     15\n",
       "8         Dragon Ball Z (Movie) Collection     15\n",
       "9                  Monster High Collection     14\n",
       "10         The Land Before Time Collection     14\n",
       "11               Johan Falk GSI Collection     12\n",
       "12              Friday the 13th Collection     12\n",
       "13        The Amityville Horror Collection     12\n",
       "14           Sherlock Holmes (1939 series)     12\n",
       "15       Il Maresciallo Giraldi Collection     10\n",
       "16                Tom and Jerry Collection     10\n",
       "17                Puppet Master Collection     10\n",
       "18                     Fantozzi Collection     10\n",
       "19                   Hellraiser Collection     10"
      ]
     },
     "execution_count": 15,
     "metadata": {},
     "output_type": "execute_result"
    }
   ],
   "source": [
    "df_pd_collection=df.where(col('name').isNotNull()).select(col('name')).groupBy(col('name')).count().orderBy(col('count').desc()).toPandas()\n",
    "df_pd_collection.head(20)"
   ]
  },
  {
   "attachments": {},
   "cell_type": "markdown",
   "metadata": {},
   "source": [
    "### Count genre movies\n"
   ]
  },
  {
   "cell_type": "code",
   "execution_count": 16,
   "metadata": {},
   "outputs": [
    {
     "name": "stderr",
     "output_type": "stream",
     "text": [
      "                                                                                \r"
     ]
    },
    {
     "name": "stdout",
     "output_type": "stream",
     "text": [
      "+---------------+-----+\n",
      "|   gener_values|count|\n",
      "+---------------+-----+\n",
      "|          Drama|20243|\n",
      "|         Comedy|13175|\n",
      "|       Thriller| 7618|\n",
      "|        Romance| 6730|\n",
      "|         Action| 6590|\n",
      "|         Horror| 4670|\n",
      "|          Crime| 4304|\n",
      "|    Documentary| 3930|\n",
      "|      Adventure| 3490|\n",
      "|Science Fiction| 3042|\n",
      "|         Family| 2767|\n",
      "|        Mystery| 2464|\n",
      "|        Unknown| 2441|\n",
      "|        Fantasy| 2309|\n",
      "|      Animation| 1930|\n",
      "|        Foreign| 1619|\n",
      "|          Music| 1597|\n",
      "|        History| 1398|\n",
      "|            War| 1322|\n",
      "|        Western| 1042|\n",
      "+---------------+-----+\n",
      "only showing top 20 rows\n",
      "\n"
     ]
    }
   ],
   "source": [
    "genres_schema = ArrayType(StructType([\n",
    "        StructField('id', StringType(), nullable=False), \n",
    "        StructField('name', StringType(), nullable=False)]))\n",
    "\n",
    "df_wc=df.select(explode(from_json(col('genres'),genres_schema).getField(\"name\").alias('genres_val')))\n",
    "df_wc.groupby(col('col').alias('gener_values')).count().orderBy(col('count').desc()).show()"
   ]
  },
  {
   "attachments": {},
   "cell_type": "markdown",
   "metadata": {},
   "source": [
    "# 2.Model Prediction for Revenue and Vote Average"
   ]
  },
  {
   "cell_type": "code",
   "execution_count": 17,
   "metadata": {},
   "outputs": [
    {
     "name": "stdout",
     "output_type": "stream",
     "text": [
      "23/01/19 12:59:04 WARN package: Truncated the string representation of a plan since it was too large. This behavior can be adjusted by setting 'spark.sql.debug.maxToStringFields'.\n"
     ]
    },
    {
     "name": "stderr",
     "output_type": "stream",
     "text": [
      "                                                                                \r"
     ]
    }
   ],
   "source": [
    "movies_metadata.write.csv(\"utput.csv\", header=True)\n"
   ]
  },
  {
   "attachments": {},
   "cell_type": "markdown",
   "metadata": {},
   "source": [
    "## Preprocessing"
   ]
  },
  {
   "cell_type": "code",
   "execution_count": 18,
   "metadata": {},
   "outputs": [
    {
     "name": "stderr",
     "output_type": "stream",
     "text": [
      "                                                                                \r"
     ]
    },
    {
     "name": "stdout",
     "output_type": "stream",
     "text": [
      "Correlation to revenue for  budget 0.7602053998132995\n"
     ]
    },
    {
     "name": "stderr",
     "output_type": "stream",
     "text": [
      "                                                                                \r"
     ]
    },
    {
     "name": "stdout",
     "output_type": "stream",
     "text": [
      "Correlation to revenue for  popularity 0.46845078337846213\n"
     ]
    },
    {
     "name": "stderr",
     "output_type": "stream",
     "text": [
      "                                                                                \r"
     ]
    },
    {
     "name": "stdout",
     "output_type": "stream",
     "text": [
      "Correlation to revenue for  revenue 1.0\n"
     ]
    },
    {
     "name": "stderr",
     "output_type": "stream",
     "text": [
      "                                                                                \r"
     ]
    },
    {
     "name": "stdout",
     "output_type": "stream",
     "text": [
      "Correlation to revenue for  runtime 0.10352080949502311\n"
     ]
    },
    {
     "name": "stderr",
     "output_type": "stream",
     "text": [
      "                                                                                \r"
     ]
    },
    {
     "name": "stdout",
     "output_type": "stream",
     "text": [
      "Correlation to revenue for  vote_average 0.08389723014384019\n"
     ]
    },
    {
     "name": "stderr",
     "output_type": "stream",
     "text": [
      "[Stage 119:>                                                        (0 + 1) / 1]\r"
     ]
    },
    {
     "name": "stdout",
     "output_type": "stream",
     "text": [
      "Correlation to revenue for  vote_count 0.787544593488117\n"
     ]
    },
    {
     "name": "stderr",
     "output_type": "stream",
     "text": [
      "                                                                                \r"
     ]
    }
   ],
   "source": [
    "import six\n",
    "\n",
    "movies = movies_metadata.select('budget','popularity','revenue','runtime','vote_average','vote_count') # The only integer available in the dataset (converting strings to number has multiple problem in pySpark)\n",
    "\n",
    "# Correlation checking\n",
    "for i in movies.columns:\n",
    "    if not( isinstance(movies.select(i).take(1)[0][0], six.string_types)):\n",
    "        print( \"Correlation to revenue for \", i, movies.stat.corr('revenue',i))"
   ]
  },
  {
   "cell_type": "code",
   "execution_count": 19,
   "metadata": {},
   "outputs": [],
   "source": [
    "movies = movies.select('budget','popularity','revenue','vote_count')\n",
    "# The features with the best correlation are kept while the other are removed"
   ]
  },
  {
   "cell_type": "code",
   "execution_count": 20,
   "metadata": {},
   "outputs": [
    {
     "name": "stderr",
     "output_type": "stream",
     "text": [
      "[Stage 122:>                                                        (0 + 1) / 1]\r"
     ]
    },
    {
     "name": "stdout",
     "output_type": "stream",
     "text": [
      "+------+----------+-------+----------+\n",
      "|budget|popularity|revenue|vote_count|\n",
      "+------+----------+-------+----------+\n",
      "|     3|         3|      3|         3|\n",
      "+------+----------+-------+----------+\n",
      "\n"
     ]
    },
    {
     "name": "stderr",
     "output_type": "stream",
     "text": [
      "                                                                                \r"
     ]
    }
   ],
   "source": [
    "from pyspark.sql.functions import col,isnan, when, count\n",
    "movies.select([count(when(isnan(c) | col(c).isNull(), c)).alias(c) for c in movies.columns]\n",
    "   ).show()"
   ]
  },
  {
   "cell_type": "code",
   "execution_count": 21,
   "metadata": {},
   "outputs": [],
   "source": [
    "movies= movies.filter(\"budget is not NULL\") # Retirer les 3 lignes avec des \"nulls\"\n"
   ]
  },
  {
   "cell_type": "code",
   "execution_count": 22,
   "metadata": {},
   "outputs": [
    {
     "name": "stderr",
     "output_type": "stream",
     "text": [
      "                                                                                \r"
     ]
    },
    {
     "data": {
      "text/html": [
       "<div>\n",
       "<style scoped>\n",
       "    .dataframe tbody tr th:only-of-type {\n",
       "        vertical-align: middle;\n",
       "    }\n",
       "\n",
       "    .dataframe tbody tr th {\n",
       "        vertical-align: top;\n",
       "    }\n",
       "\n",
       "    .dataframe thead th {\n",
       "        text-align: right;\n",
       "    }\n",
       "</style>\n",
       "<table border=\"1\" class=\"dataframe\">\n",
       "  <thead>\n",
       "    <tr style=\"text-align: right;\">\n",
       "      <th></th>\n",
       "      <th>0</th>\n",
       "      <th>1</th>\n",
       "      <th>2</th>\n",
       "      <th>3</th>\n",
       "      <th>4</th>\n",
       "    </tr>\n",
       "  </thead>\n",
       "  <tbody>\n",
       "    <tr>\n",
       "      <th>summary</th>\n",
       "      <td>count</td>\n",
       "      <td>mean</td>\n",
       "      <td>stddev</td>\n",
       "      <td>min</td>\n",
       "      <td>max</td>\n",
       "    </tr>\n",
       "    <tr>\n",
       "      <th>budget</th>\n",
       "      <td>45428</td>\n",
       "      <td>4225013.90417804</td>\n",
       "      <td>1.742889227897661E7</td>\n",
       "      <td>0</td>\n",
       "      <td>380000000</td>\n",
       "    </tr>\n",
       "    <tr>\n",
       "      <th>popularity</th>\n",
       "      <td>45428</td>\n",
       "      <td>2.9212739482750387</td>\n",
       "      <td>6.006825607105138</td>\n",
       "      <td>0.0</td>\n",
       "      <td>547.4883</td>\n",
       "    </tr>\n",
       "    <tr>\n",
       "      <th>revenue</th>\n",
       "      <td>45428</td>\n",
       "      <td>1.111883328993132E7</td>\n",
       "      <td>6.34221897251613E7</td>\n",
       "      <td>-1507002209</td>\n",
       "      <td>2068223624</td>\n",
       "    </tr>\n",
       "    <tr>\n",
       "      <th>vote_count</th>\n",
       "      <td>45428</td>\n",
       "      <td>109.94003698159726</td>\n",
       "      <td>491.47676043797094</td>\n",
       "      <td>0</td>\n",
       "      <td>14075</td>\n",
       "    </tr>\n",
       "  </tbody>\n",
       "</table>\n",
       "</div>"
      ],
      "text/plain": [
       "                0                    1                    2            3  \\\n",
       "summary     count                 mean               stddev          min   \n",
       "budget      45428     4225013.90417804  1.742889227897661E7            0   \n",
       "popularity  45428   2.9212739482750387    6.006825607105138          0.0   \n",
       "revenue     45428  1.111883328993132E7   6.34221897251613E7  -1507002209   \n",
       "vote_count  45428   109.94003698159726   491.47676043797094            0   \n",
       "\n",
       "                     4  \n",
       "summary            max  \n",
       "budget       380000000  \n",
       "popularity    547.4883  \n",
       "revenue     2068223624  \n",
       "vote_count       14075  "
      ]
     },
     "execution_count": 22,
     "metadata": {},
     "output_type": "execute_result"
    }
   ],
   "source": [
    "movies.describe().toPandas().transpose()"
   ]
  },
  {
   "cell_type": "code",
   "execution_count": 23,
   "metadata": {},
   "outputs": [],
   "source": [
    "from  pyspark.ml.feature import VectorAssembler\n",
    "from  pyspark.ml.linalg import Vectors\n",
    "\n",
    "#creating features column\n",
    "assembler = VectorAssembler(\n",
    "    inputCols=('budget','popularity','vote_count'),\n",
    "    outputCol='features')"
   ]
  },
  {
   "cell_type": "code",
   "execution_count": 24,
   "metadata": {},
   "outputs": [
    {
     "name": "stderr",
     "output_type": "stream",
     "text": [
      "[Stage 134:>                                                        (0 + 1) / 1]\r"
     ]
    },
    {
     "name": "stdout",
     "output_type": "stream",
     "text": [
      "+--------------------+-------+\n",
      "|            features|revenue|\n",
      "+--------------------+-------+\n",
      "|[2000000.0,11.528...|1275000|\n",
      "|[0.0,0.0016629999...|      0|\n",
      "|[0.0,0.0033869999...|      0|\n",
      "+--------------------+-------+\n",
      "only showing top 3 rows\n",
      "\n"
     ]
    },
    {
     "name": "stderr",
     "output_type": "stream",
     "text": [
      "                                                                                \r"
     ]
    }
   ],
   "source": [
    "# Create the vector and the label\n",
    "output = assembler.transform(movies)\n",
    "output = output.select(['features', 'revenue'])\n",
    "output.show(3)"
   ]
  },
  {
   "cell_type": "code",
   "execution_count": 25,
   "metadata": {},
   "outputs": [],
   "source": [
    "#Split the dataset with a train and test set\n",
    "splits = output.randomSplit([0.7, 0.3])\n",
    "train_df = splits[0]\n",
    "test_df = splits[1]"
   ]
  },
  {
   "attachments": {},
   "cell_type": "markdown",
   "metadata": {},
   "source": [
    "## First model : Linear Regression"
   ]
  },
  {
   "cell_type": "code",
   "execution_count": 26,
   "metadata": {},
   "outputs": [
    {
     "name": "stderr",
     "output_type": "stream",
     "text": [
      "[Stage 140:>                                                        (0 + 4) / 4]\r"
     ]
    },
    {
     "name": "stdout",
     "output_type": "stream",
     "text": [
      "23/01/19 12:59:50 WARN InstanceBuilder$NativeBLAS: Failed to load implementation from:dev.ludovic.netlib.blas.JNIBLAS\n",
      "23/01/19 12:59:50 WARN InstanceBuilder$NativeBLAS: Failed to load implementation from:dev.ludovic.netlib.blas.ForeignLinkerBLAS\n"
     ]
    },
    {
     "name": "stderr",
     "output_type": "stream",
     "text": [
      "[Stage 143:>                                                        (0 + 4) / 4]\r"
     ]
    },
    {
     "name": "stdout",
     "output_type": "stream",
     "text": [
      "Coefficients: [1.6117734946681739,-636298.8081020241,64036.101562541204]\n",
      "Intercept: -948423.1681283715\n"
     ]
    },
    {
     "name": "stderr",
     "output_type": "stream",
     "text": [
      "                                                                                \r"
     ]
    }
   ],
   "source": [
    "from pyspark.ml.regression import LinearRegression\n",
    "lr = LinearRegression(featuresCol = 'features', labelCol='revenue', maxIter=10, regParam=0.3, elasticNetParam=0.8)\n",
    "lr_model = lr.fit(train_df)\n",
    "print(\"Coefficients: \" + str(lr_model.coefficients))\n",
    "print(\"Intercept: \" + str(lr_model.intercept))"
   ]
  },
  {
   "cell_type": "code",
   "execution_count": 27,
   "metadata": {},
   "outputs": [
    {
     "name": "stdout",
     "output_type": "stream",
     "text": [
      "RMSE: 34776584.676075\n",
      "r2: 0.703603\n"
     ]
    }
   ],
   "source": [
    "trainingSummary = lr_model.summary\n",
    "print(\"RMSE: %f\" % trainingSummary.rootMeanSquaredError)\n",
    "print(\"r2: %f\" % trainingSummary.r2)\n",
    "rmseLR = trainingSummary.rootMeanSquaredError"
   ]
  },
  {
   "attachments": {},
   "cell_type": "markdown",
   "metadata": {},
   "source": [
    "## Second model : Decision Tree Regression"
   ]
  },
  {
   "cell_type": "code",
   "execution_count": 28,
   "metadata": {},
   "outputs": [
    {
     "name": "stderr",
     "output_type": "stream",
     "text": [
      "[Stage 167:>                                                        (0 + 1) / 1]\r"
     ]
    },
    {
     "name": "stdout",
     "output_type": "stream",
     "text": [
      "Root Mean Squared Error (RMSE) on test data = 3.60987e+07\n"
     ]
    },
    {
     "name": "stderr",
     "output_type": "stream",
     "text": [
      "                                                                                \r"
     ]
    }
   ],
   "source": [
    "from pyspark.ml.regression import DecisionTreeRegressor\n",
    "from pyspark.ml.evaluation import RegressionEvaluator\n",
    "dt = DecisionTreeRegressor(featuresCol ='features', labelCol = 'revenue')\n",
    "dt_model = dt.fit(train_df)\n",
    "dt_predictions = dt_model.transform(test_df)\n",
    "dt_evaluator = RegressionEvaluator(\n",
    "    labelCol=\"revenue\", predictionCol=\"prediction\", metricName=\"rmse\")\n",
    "rmseDT = dt_evaluator.evaluate(dt_predictions)\n",
    "print(\"Root Mean Squared Error (RMSE) on test data = %g\" % rmseDT)"
   ]
  },
  {
   "cell_type": "code",
   "execution_count": 29,
   "metadata": {},
   "outputs": [
    {
     "name": "stderr",
     "output_type": "stream",
     "text": [
      "[Stage 170:>                                                        (0 + 1) / 1]\r"
     ]
    },
    {
     "name": "stdout",
     "output_type": "stream",
     "text": [
      "Root Mean Squared Error (RMSE) on test data = 3.21096e+07\n"
     ]
    },
    {
     "name": "stderr",
     "output_type": "stream",
     "text": [
      "                                                                                \r"
     ]
    }
   ],
   "source": [
    "test_result = lr_model.evaluate(test_df)\n",
    "print(\"Root Mean Squared Error (RMSE) on test data = %g\" % test_result.rootMeanSquaredError)"
   ]
  },
  {
   "attachments": {},
   "cell_type": "markdown",
   "metadata": {},
   "source": [
    "## Third model : Gradient Boosting Regression"
   ]
  },
  {
   "cell_type": "code",
   "execution_count": 30,
   "metadata": {},
   "outputs": [
    {
     "name": "stderr",
     "output_type": "stream",
     "text": [
      "WARNING: An illegal reflective access operation has occurred                    \n",
      "WARNING: Illegal reflective access by org.apache.spark.util.SizeEstimator$ (file:/Users/oub/opt/anaconda3/lib/python3.9/site-packages/pyspark/jars/spark-core_2.12-3.3.1.jar) to field java.nio.charset.Charset.name\n",
      "WARNING: Please consider reporting this to the maintainers of org.apache.spark.util.SizeEstimator$\n",
      "WARNING: Use --illegal-access=warn to enable warnings of further illegal reflective access operations\n",
      "WARNING: All illegal access operations will be denied in a future release\n",
      "[Stage 332:>                                                        (0 + 1) / 1]\r"
     ]
    },
    {
     "name": "stdout",
     "output_type": "stream",
     "text": [
      "+-----------------+-------+---------+\n",
      "|       prediction|revenue| features|\n",
      "+-----------------+-------+---------+\n",
      "|84203.46051617594|      0|(3,[],[])|\n",
      "|84203.46051617594|      0|(3,[],[])|\n",
      "|84203.46051617594|      0|(3,[],[])|\n",
      "|84203.46051617594|      0|(3,[],[])|\n",
      "|84203.46051617594|      0|(3,[],[])|\n",
      "+-----------------+-------+---------+\n",
      "only showing top 5 rows\n",
      "\n"
     ]
    },
    {
     "name": "stderr",
     "output_type": "stream",
     "text": [
      "                                                                                \r"
     ]
    }
   ],
   "source": [
    "from pyspark.ml.regression import GBTRegressor\n",
    "gbt = GBTRegressor(featuresCol = 'features', labelCol = 'revenue', maxIter=10)\n",
    "gbt_model = gbt.fit(train_df)\n",
    "gbt_predictions = gbt_model.transform(test_df)\n",
    "gbt_predictions.select('prediction', 'revenue', 'features').show(5)"
   ]
  },
  {
   "cell_type": "code",
   "execution_count": 31,
   "metadata": {},
   "outputs": [
    {
     "name": "stderr",
     "output_type": "stream",
     "text": [
      "[Stage 335:>                                                        (0 + 1) / 1]\r"
     ]
    },
    {
     "name": "stdout",
     "output_type": "stream",
     "text": [
      "Root Mean Squared Error (RMSE) on test data = 3.82867e+07\n"
     ]
    },
    {
     "name": "stderr",
     "output_type": "stream",
     "text": [
      "                                                                                \r"
     ]
    }
   ],
   "source": [
    "gbt_evaluator = RegressionEvaluator(\n",
    "    labelCol=\"revenue\", predictionCol=\"prediction\", metricName=\"rmse\")\n",
    "rmseGBT = gbt_evaluator.evaluate(gbt_predictions)\n",
    "print(\"Root Mean Squared Error (RMSE) on test data = %g\" % rmseGBT)"
   ]
  },
  {
   "attachments": {},
   "cell_type": "markdown",
   "metadata": {},
   "source": [
    "## Model prediction of Vote average"
   ]
  },
  {
   "cell_type": "code",
   "execution_count": 32,
   "metadata": {},
   "outputs": [
    {
     "name": "stderr",
     "output_type": "stream",
     "text": [
      "                                                                                \r"
     ]
    },
    {
     "name": "stdout",
     "output_type": "stream",
     "text": [
      "Correlation to vote_average for  budget 0.07351520061424012\n"
     ]
    },
    {
     "name": "stderr",
     "output_type": "stream",
     "text": [
      "                                                                                \r"
     ]
    },
    {
     "name": "stdout",
     "output_type": "stream",
     "text": [
      "Correlation to vote_average for  popularity 0.15439188401134443\n"
     ]
    },
    {
     "name": "stderr",
     "output_type": "stream",
     "text": [
      "                                                                                \r"
     ]
    },
    {
     "name": "stdout",
     "output_type": "stream",
     "text": [
      "Correlation to vote_average for  revenue 0.0838972301438402\n"
     ]
    },
    {
     "name": "stderr",
     "output_type": "stream",
     "text": [
      "                                                                                \r"
     ]
    },
    {
     "name": "stdout",
     "output_type": "stream",
     "text": [
      "Correlation to vote_average for  runtime 0.16809860474456345\n"
     ]
    },
    {
     "name": "stderr",
     "output_type": "stream",
     "text": [
      "                                                                                \r"
     ]
    },
    {
     "name": "stdout",
     "output_type": "stream",
     "text": [
      "Correlation to vote_average for  vote_average 1.0\n"
     ]
    },
    {
     "name": "stderr",
     "output_type": "stream",
     "text": [
      "[Stage 371:>                                                        (0 + 1) / 1]\r"
     ]
    },
    {
     "name": "stdout",
     "output_type": "stream",
     "text": [
      "Correlation to vote_average for  vote_count 0.12361742176783214\n"
     ]
    },
    {
     "name": "stderr",
     "output_type": "stream",
     "text": [
      "                                                                                \r"
     ]
    }
   ],
   "source": [
    "#Find correlation with the vote average \n",
    "import six\n",
    "\n",
    "test = movies_metadata.select('budget','popularity','revenue','runtime','vote_average','vote_count')\n",
    "\n",
    "for i in test.columns:\n",
    "    if not( isinstance(test.select(i).take(1)[0][0], six.string_types)):\n",
    "        print( \"Correlation to vote_average for \", i, test.stat.corr('vote_average',i))"
   ]
  },
  {
   "cell_type": "code",
   "execution_count": 33,
   "metadata": {},
   "outputs": [],
   "source": [
    "X = movies_metadata.select('budget','popularity','revenue','runtime','vote_average','vote_count')\n"
   ]
  },
  {
   "cell_type": "code",
   "execution_count": 34,
   "metadata": {},
   "outputs": [
    {
     "name": "stderr",
     "output_type": "stream",
     "text": [
      "[Stage 374:>                                                        (0 + 1) / 1]\r"
     ]
    },
    {
     "name": "stdout",
     "output_type": "stream",
     "text": [
      "+------+----------+-------+-------+------------+----------+\n",
      "|budget|popularity|revenue|runtime|vote_average|vote_count|\n",
      "+------+----------+-------+-------+------------+----------+\n",
      "|     3|         3|      3|    260|           3|         3|\n",
      "+------+----------+-------+-------+------------+----------+\n",
      "\n"
     ]
    },
    {
     "name": "stderr",
     "output_type": "stream",
     "text": [
      "                                                                                \r"
     ]
    }
   ],
   "source": [
    "from pyspark.sql.functions import col,isnan, when, count\n",
    "X.select([count(when(isnan(c) | col(c).isNull(), c)).alias(c) for c in X.columns]\n",
    "   ).show()"
   ]
  },
  {
   "cell_type": "code",
   "execution_count": 35,
   "metadata": {},
   "outputs": [],
   "source": [
    "X = X.filter(\"budget is not NULL\") # Retirer les 3 lignes avec des \"nulls\"\n",
    "X = X.filter(\"runtime is not NULL\")"
   ]
  },
  {
   "cell_type": "code",
   "execution_count": 36,
   "metadata": {},
   "outputs": [
    {
     "name": "stderr",
     "output_type": "stream",
     "text": [
      "                                                                                \r"
     ]
    },
    {
     "data": {
      "text/html": [
       "<div>\n",
       "<style scoped>\n",
       "    .dataframe tbody tr th:only-of-type {\n",
       "        vertical-align: middle;\n",
       "    }\n",
       "\n",
       "    .dataframe tbody tr th {\n",
       "        vertical-align: top;\n",
       "    }\n",
       "\n",
       "    .dataframe thead th {\n",
       "        text-align: right;\n",
       "    }\n",
       "</style>\n",
       "<table border=\"1\" class=\"dataframe\">\n",
       "  <thead>\n",
       "    <tr style=\"text-align: right;\">\n",
       "      <th></th>\n",
       "      <th>0</th>\n",
       "      <th>1</th>\n",
       "      <th>2</th>\n",
       "      <th>3</th>\n",
       "      <th>4</th>\n",
       "    </tr>\n",
       "  </thead>\n",
       "  <tbody>\n",
       "    <tr>\n",
       "      <th>summary</th>\n",
       "      <td>count</td>\n",
       "      <td>mean</td>\n",
       "      <td>stddev</td>\n",
       "      <td>min</td>\n",
       "      <td>max</td>\n",
       "    </tr>\n",
       "    <tr>\n",
       "      <th>budget</th>\n",
       "      <td>45171</td>\n",
       "      <td>4248596.416816099</td>\n",
       "      <td>1.747554809865757E7</td>\n",
       "      <td>0</td>\n",
       "      <td>380000000</td>\n",
       "    </tr>\n",
       "    <tr>\n",
       "      <th>popularity</th>\n",
       "      <td>45171</td>\n",
       "      <td>2.9366332450528625</td>\n",
       "      <td>6.020362723986118</td>\n",
       "      <td>0.0</td>\n",
       "      <td>547.4883</td>\n",
       "    </tr>\n",
       "    <tr>\n",
       "      <th>revenue</th>\n",
       "      <td>45171</td>\n",
       "      <td>1.1182012611409975E7</td>\n",
       "      <td>6.359680953568571E7</td>\n",
       "      <td>-1507002209</td>\n",
       "      <td>2068223624</td>\n",
       "    </tr>\n",
       "    <tr>\n",
       "      <th>runtime</th>\n",
       "      <td>45171</td>\n",
       "      <td>94.12623143167076</td>\n",
       "      <td>38.41382404786643</td>\n",
       "      <td>0.0</td>\n",
       "      <td>1256.0</td>\n",
       "    </tr>\n",
       "    <tr>\n",
       "      <th>vote_average</th>\n",
       "      <td>45171</td>\n",
       "      <td>5.62961191915172</td>\n",
       "      <td>1.9086772197460182</td>\n",
       "      <td>0.0</td>\n",
       "      <td>10.0</td>\n",
       "    </tr>\n",
       "    <tr>\n",
       "      <th>vote_count</th>\n",
       "      <td>45171</td>\n",
       "      <td>110.54988820260787</td>\n",
       "      <td>492.80595818941293</td>\n",
       "      <td>0</td>\n",
       "      <td>14075</td>\n",
       "    </tr>\n",
       "  </tbody>\n",
       "</table>\n",
       "</div>"
      ],
      "text/plain": [
       "                  0                     1                    2            3  \\\n",
       "summary       count                  mean               stddev          min   \n",
       "budget        45171     4248596.416816099  1.747554809865757E7            0   \n",
       "popularity    45171    2.9366332450528625    6.020362723986118          0.0   \n",
       "revenue       45171  1.1182012611409975E7  6.359680953568571E7  -1507002209   \n",
       "runtime       45171     94.12623143167076    38.41382404786643          0.0   \n",
       "vote_average  45171      5.62961191915172   1.9086772197460182          0.0   \n",
       "vote_count    45171    110.54988820260787   492.80595818941293            0   \n",
       "\n",
       "                       4  \n",
       "summary              max  \n",
       "budget         380000000  \n",
       "popularity      547.4883  \n",
       "revenue       2068223624  \n",
       "runtime           1256.0  \n",
       "vote_average        10.0  \n",
       "vote_count         14075  "
      ]
     },
     "execution_count": 36,
     "metadata": {},
     "output_type": "execute_result"
    }
   ],
   "source": [
    "X.describe().toPandas().transpose()"
   ]
  },
  {
   "cell_type": "code",
   "execution_count": 42,
   "metadata": {},
   "outputs": [
    {
     "name": "stderr",
     "output_type": "stream",
     "text": [
      "[Stage 386:>                                                        (0 + 1) / 1]\r"
     ]
    },
    {
     "name": "stdout",
     "output_type": "stream",
     "text": [
      "+--------------------+------------+\n",
      "|            features|vote_average|\n",
      "+--------------------+------------+\n",
      "|[2000000.0,11.528...|         6.8|\n",
      "|(7,[1,3,5],[0.001...|         0.0|\n",
      "|(7,[1,3,5],[0.003...|         0.0|\n",
      "+--------------------+------------+\n",
      "only showing top 3 rows\n",
      "\n"
     ]
    },
    {
     "name": "stderr",
     "output_type": "stream",
     "text": [
      "                                                                                \r"
     ]
    }
   ],
   "source": [
    "from  pyspark.ml.feature import VectorAssembler\n",
    "from  pyspark.ml.linalg import Vectors\n",
    "\n",
    "#creating features column\n",
    "assembler = VectorAssembler(\n",
    "    inputCols=('budget','popularity','vote_count','popularity','revenue', 'runtime','vote_count'),\n",
    "    outputCol='features')\n",
    "\n",
    "# Create the vector and the label\n",
    "output = assembler.transform(X)\n",
    "output = output.select(['features', 'vote_average'])\n",
    "output.show(3)"
   ]
  },
  {
   "cell_type": "code",
   "execution_count": 43,
   "metadata": {},
   "outputs": [],
   "source": [
    "splits = output.randomSplit([0.7, 0.3])\n",
    "train_df = splits[0]\n",
    "test_df = splits[1]"
   ]
  },
  {
   "cell_type": "code",
   "execution_count": 44,
   "metadata": {},
   "outputs": [
    {
     "name": "stderr",
     "output_type": "stream",
     "text": [
      "[Stage 393:>                                                        (0 + 1) / 1]\r"
     ]
    },
    {
     "name": "stdout",
     "output_type": "stream",
     "text": [
      "Coefficients: [0.0,0.0027468586001501995,0.0,0.0027468586001501995,0.0,0.0015289624717588933,0.0]\n",
      "Intercept: 5.469648925216722\n"
     ]
    },
    {
     "name": "stderr",
     "output_type": "stream",
     "text": [
      "                                                                                \r"
     ]
    }
   ],
   "source": [
    "from pyspark.ml.regression import LinearRegression\n",
    "lr2 = LinearRegression(featuresCol = 'features', labelCol='vote_average', maxIter=10, regParam=0.3, elasticNetParam=0.8)\n",
    "lr2_model = lr2.fit(train_df)\n",
    "print(\"Coefficients: \" + str(lr2_model.coefficients))\n",
    "print(\"Intercept: \" + str(lr2_model.intercept))"
   ]
  },
  {
   "cell_type": "code",
   "execution_count": 45,
   "metadata": {},
   "outputs": [
    {
     "name": "stdout",
     "output_type": "stream",
     "text": [
      "RMSE: 1.900711\n",
      "r2: 0.013672\n"
     ]
    }
   ],
   "source": [
    "trainingSummary2 = lr2_model.summary\n",
    "print(\"RMSE: %f\" % trainingSummary2.rootMeanSquaredError)\n",
    "print(\"r2: %f\" % trainingSummary2.r2)\n",
    "\n",
    "# Very low quality data because of the lack of interesting feature"
   ]
  },
  {
   "attachments": {},
   "cell_type": "markdown",
   "metadata": {},
   "source": [
    "# 3.Model Recommendation"
   ]
  },
  {
   "attachments": {},
   "cell_type": "markdown",
   "metadata": {},
   "source": [
    "## 3.1.Top N movies closer with a movie title"
   ]
  },
  {
   "attachments": {},
   "cell_type": "markdown",
   "metadata": {},
   "source": [
    "### Preprocessing"
   ]
  },
  {
   "cell_type": "code",
   "execution_count": 168,
   "metadata": {},
   "outputs": [],
   "source": [
    "corrupted_id = [49788, 47596, 101838, 46770, 43524, 47110]\n",
    "df = df.filter(df.id.isin(corrupted_id) == False)"
   ]
  },
  {
   "cell_type": "code",
   "execution_count": 169,
   "metadata": {},
   "outputs": [
    {
     "name": "stderr",
     "output_type": "stream",
     "text": [
      "[Stage 795:>                                                        (0 + 1) / 1]\r"
     ]
    },
    {
     "name": "stdout",
     "output_type": "stream",
     "text": [
      "+--------------------+\n",
      "|            overview|\n",
      "+--------------------+\n",
      "|How I Unleashed W...|\n",
      "|Henry Frankenstei...|\n",
      "|James Parker and ...|\n",
      "+--------------------+\n",
      "only showing top 3 rows\n",
      "\n"
     ]
    },
    {
     "name": "stderr",
     "output_type": "stream",
     "text": [
      "                                                                                \r"
     ]
    }
   ],
   "source": [
    "df.select('overview').show(3)"
   ]
  },
  {
   "cell_type": "code",
   "execution_count": 170,
   "metadata": {},
   "outputs": [
    {
     "name": "stderr",
     "output_type": "stream",
     "text": [
      "[Stage 800:============================>                            (2 + 2) / 4]\r"
     ]
    },
    {
     "name": "stdout",
     "output_type": "stream",
     "text": [
      "+-----+--------+\n",
      "|title|overview|\n",
      "+-----+--------+\n",
      "|    0|      29|\n",
      "+-----+--------+\n",
      "\n"
     ]
    },
    {
     "name": "stderr",
     "output_type": "stream",
     "text": [
      "                                                                                \r"
     ]
    }
   ],
   "source": [
    "# remove null rows\n",
    "movies = df.select('title','overview')\n",
    "movies.select([count(when(isnan(c) | col(c).isNull(), c)).alias(c) for c in movies.columns]\n",
    "   ).show()"
   ]
  },
  {
   "cell_type": "code",
   "execution_count": 171,
   "metadata": {},
   "outputs": [],
   "source": [
    "movies = movies.filter('title is not NULL').filter('overview is not NULL')"
   ]
  },
  {
   "cell_type": "code",
   "execution_count": 172,
   "metadata": {},
   "outputs": [
    {
     "name": "stderr",
     "output_type": "stream",
     "text": [
      "[Stage 804:>                                                        (0 + 1) / 1]\r"
     ]
    },
    {
     "name": "stdout",
     "output_type": "stream",
     "text": [
      "+-----+--------+\n",
      "|title|overview|\n",
      "+-----+--------+\n",
      "|    0|       0|\n",
      "+-----+--------+\n",
      "\n"
     ]
    },
    {
     "name": "stderr",
     "output_type": "stream",
     "text": [
      "                                                                                \r"
     ]
    }
   ],
   "source": [
    "movies.select([count(when(isnan(c) | col(c).isNull(), c)).alias(c) for c in movies.columns]\n",
    "   ).show()"
   ]
  },
  {
   "attachments": {},
   "cell_type": "markdown",
   "metadata": {},
   "source": [
    "### NLP Process : Tf-Idf"
   ]
  },
  {
   "cell_type": "code",
   "execution_count": 52,
   "metadata": {},
   "outputs": [],
   "source": [
    "#Extracting the features\n",
    "def extract_features(df):\n",
    "    indexer = StringIndexer(inputCol=\"title\", outputCol=\"movie_title_index\")\n",
    "    tokenizer = Tokenizer(inputCol=\"overview\", outputCol=\"words\")\n",
    "    hashing_tf = HashingTF(inputCol=\"words\", outputCol=\"rawFeatures\", numFeatures=20)\n",
    "    idf = IDF(inputCol=\"rawFeatures\", outputCol=\"features\")\n",
    "    pipeline = Pipeline(stages=[indexer, tokenizer, hashing_tf, idf])\n",
    "    return pipeline.fit(df).transform(df)"
   ]
  },
  {
   "cell_type": "code",
   "execution_count": 173,
   "metadata": {},
   "outputs": [
    {
     "name": "stderr",
     "output_type": "stream",
     "text": [
      "[Stage 819:>                                                        (0 + 1) / 1]\r"
     ]
    },
    {
     "name": "stdout",
     "output_type": "stream",
     "text": [
      "+--------------------+--------------------+-----------------+--------------------+--------------------+--------------------+\n",
      "|               title|            overview|movie_title_index|               words|         rawFeatures|            features|\n",
      "+--------------------+--------------------+-----------------+--------------------+--------------------+--------------------+\n",
      "|How I Unleashed W...|How I Unleashed W...|           1217.0|[how, i, unleashe...|(20,[0,1,2,3,4,5,...|(20,[0,1,2,3,4,5,...|\n",
      "|        Frankenstein|Henry Frankenstei...|            936.0|[henry, frankenst...|(20,[0,3,4,5,6,7,...|(20,[0,3,4,5,6,7,...|\n",
      "|  Tarzan the Ape Man|James Parker and ...|           2342.0|[james, parker, a...|(20,[0,1,2,3,4,5,...|(20,[0,1,2,3,4,5,...|\n",
      "+--------------------+--------------------+-----------------+--------------------+--------------------+--------------------+\n",
      "only showing top 3 rows\n",
      "\n"
     ]
    },
    {
     "name": "stderr",
     "output_type": "stream",
     "text": [
      "                                                                                \r"
     ]
    }
   ],
   "source": [
    "#NLP Process to each movie\n",
    "movie_df = extract_features(movies)\n",
    "\n",
    "movie_df.show(3)"
   ]
  },
  {
   "cell_type": "code",
   "execution_count": 179,
   "metadata": {},
   "outputs": [],
   "source": [
    "name_movie = input(\"insert a movie name : \")\n",
    "#Blue in the Face"
   ]
  },
  {
   "cell_type": "code",
   "execution_count": 182,
   "metadata": {},
   "outputs": [
    {
     "name": "stderr",
     "output_type": "stream",
     "text": [
      "                                                                                \r"
     ]
    }
   ],
   "source": [
    "# We select the feature of the movie selected earlier in the dataset\n",
    "movie_researched = movie_df.filter(\"title ==  '\"f'{name_movie}'\"'\").select('features').collect()[0][0]\n",
    "\n",
    "# We create the cosine similarity in a User Defined Function\n",
    "cosine_similarity = udf(lambda x: float(x.dot(movie_researched)/(x.norm(2)*movie_researched.norm(2))), DoubleType())\n",
    "\n",
    "# We compare the feature of the selected movie with each movie of the dataset\n",
    "movie_df_sortie = movie_df.withColumn(\"cosine_similarity\", cosine_similarity(\"features\"))"
   ]
  },
  {
   "cell_type": "code",
   "execution_count": 183,
   "metadata": {},
   "outputs": [
    {
     "name": "stderr",
     "output_type": "stream",
     "text": [
      "[Stage 843:>                                                        (0 + 4) / 4]\r"
     ]
    },
    {
     "name": "stdout",
     "output_type": "stream",
     "text": [
      "+--------------------+------------------+\n",
      "|               title| cosine_similarity|\n",
      "+--------------------+------------------+\n",
      "|    Blue in the Face|1.0000000000000002|\n",
      "|Kevin Smith: Too ...|0.9535951056498836|\n",
      "|    A Tale of Winter|0.9407873230248185|\n",
      "|    Gamera the Brave|0.9394527940304581|\n",
      "|     Tenchi Forever!|0.9365659002154718|\n",
      "+--------------------+------------------+\n",
      "\n"
     ]
    },
    {
     "name": "stderr",
     "output_type": "stream",
     "text": [
      "                                                                                \r"
     ]
    }
   ],
   "source": [
    "# Top N : replace the limit with the N value chosen.\n",
    "movie_df_sortie_topN = movie_df_sortie.sort(\"cosine_similarity\",ascending=False).limit(5)\n",
    "\n",
    "movie_df_sortie_topN.select(\"title\",\"cosine_similarity\").show()"
   ]
  },
  {
   "attachments": {},
   "cell_type": "markdown",
   "metadata": {},
   "source": [
    "## 3.2 Predict user rating"
   ]
  },
  {
   "cell_type": "code",
   "execution_count": 82,
   "metadata": {},
   "outputs": [
    {
     "name": "stdout",
     "output_type": "stream",
     "text": [
      "+------+-------+------+----------+\n",
      "|userId|movieId|rating| timestamp|\n",
      "+------+-------+------+----------+\n",
      "|     1|     31|   2.5|1260759144|\n",
      "|     1|   1029|   3.0|1260759179|\n",
      "+------+-------+------+----------+\n",
      "only showing top 2 rows\n",
      "\n"
     ]
    },
    {
     "name": "stderr",
     "output_type": "stream",
     "text": [
      "                                                                                \r"
     ]
    },
    {
     "name": "stdout",
     "output_type": "stream",
     "text": [
      "23/01/19 13:24:15 WARN InstanceBuilder$NativeLAPACK: Failed to load implementation from:dev.ludovic.netlib.lapack.JNILAPACK\n"
     ]
    },
    {
     "name": "stderr",
     "output_type": "stream",
     "text": [
      "                                                                                \r"
     ]
    },
    {
     "name": "stdout",
     "output_type": "stream",
     "text": [
      "Root-mean-square error = 1.1319439945018415\n"
     ]
    }
   ],
   "source": [
    "from pyspark.ml.evaluation import RegressionEvaluator\n",
    "from pyspark.ml.recommendation import ALS\n",
    "from pyspark.sql import Row\n",
    "\n",
    "ratings_sample.select('userId','movieId','rating','timestamp').show(2)\n",
    "\n",
    "(training, test) = ratings_sample.randomSplit([0.8, 0.2])\n",
    "\n",
    "# Build the recommendation model using ALS on the training data\n",
    "# Note we set cold start strategy to 'drop' to ensure we don't get NaN evaluation metrics\n",
    "\n",
    "als = ALS(maxIter=10, regParam=0.01, userCol=\"userId\", itemCol=\"movieId\", ratingCol=\"rating\",\n",
    "          coldStartStrategy=\"drop\")\n",
    "\n",
    "model = als.fit(training)\n",
    "\n",
    "# Evaluate the model by computing the RMSE on the test data\n",
    "predictions = model.transform(test)\n",
    "evaluator = RegressionEvaluator(metricName=\"rmse\", labelCol=\"rating\",predictionCol=\"prediction\")\n",
    "rmse = evaluator.evaluate(predictions)\n",
    "print(\"Root-mean-square error = \" + str(rmse))"
   ]
  },
  {
   "cell_type": "code",
   "execution_count": 83,
   "metadata": {},
   "outputs": [
    {
     "name": "stderr",
     "output_type": "stream",
     "text": [
      "                                                                                \r"
     ]
    },
    {
     "name": "stdout",
     "output_type": "stream",
     "text": [
      "+------+-------+----------+\n",
      "|userId|movieId|prediction|\n",
      "+------+-------+----------+\n",
      "|   253|      3| 4.2175503|\n",
      "+------+-------+----------+\n",
      "\n"
     ]
    }
   ],
   "source": [
    "# We use the user 253 and MovieId 3 because this user have never rated it\n",
    "data = [(253, 3)]\n",
    "#Transformation into dataframe \n",
    "test2 = spark.createDataFrame(data, [\"userId\", \"movieId\"])\n",
    "\n",
    "pred = model.transform(test2)\n",
    "pred.show()"
   ]
  },
  {
   "cell_type": "code",
   "execution_count": null,
   "metadata": {},
   "outputs": [],
   "source": [
    "userId = input('Choose the userID')\n",
    "movieId = input('Choose the movieId')\n",
    "data = [(userId, movieId)]\n",
    "#Transformation into dataframe \n",
    "test2 = spark.createDataFrame(data, [\"userId\", \"movieId\"])\n",
    "\n",
    "pred = model.transform(test2)\n",
    "pred.show()"
   ]
  }
 ],
 "metadata": {
  "kernelspec": {
   "display_name": "Python 3.9.7 ('base')",
   "language": "python",
   "name": "python3"
  },
  "language_info": {
   "codemirror_mode": {
    "name": "ipython",
    "version": 3
   },
   "file_extension": ".py",
   "mimetype": "text/x-python",
   "name": "python",
   "nbconvert_exporter": "python",
   "pygments_lexer": "ipython3",
   "version": "3.9.7 (default, Sep 16 2021, 08:50:36) \n[Clang 10.0.0 ]"
  },
  "orig_nbformat": 4,
  "vscode": {
   "interpreter": {
    "hash": "b5b270ea6e464d855d17abd4fc71c5752b3009b37682238331a225d42ee4ac9e"
   }
  }
 },
 "nbformat": 4,
 "nbformat_minor": 2
}
